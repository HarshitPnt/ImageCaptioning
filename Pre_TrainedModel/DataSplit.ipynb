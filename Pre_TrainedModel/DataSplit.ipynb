{
 "cells": [
  {
   "cell_type": "code",
   "execution_count": 1,
   "metadata": {},
   "outputs": [
    {
     "name": "stdout",
     "output_type": "stream",
     "text": [
      "Copying 3108544687_c7115823f5.jpg to ../Data/archive/RandomDataTest/3108544687_c7115823f5.jpg\n",
      "Copying 236095034_c983bdfbbf.jpg to ../Data/archive/RandomDataTest/236095034_c983bdfbbf.jpg\n",
      "Copying 461505235_590102a5bf.jpg to ../Data/archive/RandomDataTest/461505235_590102a5bf.jpg\n",
      "Copying 2648310638_d6c576b5e4.jpg to ../Data/archive/RandomDataTest/2648310638_d6c576b5e4.jpg\n",
      "Copying 1468962616_5803b4397f.jpg to ../Data/archive/RandomDataTest/1468962616_5803b4397f.jpg\n",
      "Copying 2902844125_4186bf3ab6.jpg to ../Data/archive/RandomDataTest/2902844125_4186bf3ab6.jpg\n",
      "Copying 3119887967_271a097464.jpg to ../Data/archive/RandomDataTest/3119887967_271a097464.jpg\n",
      "Copying 2355578735_286af5b202.jpg to ../Data/archive/RandomDataTest/2355578735_286af5b202.jpg\n",
      "Copying 109260218_fca831f933.jpg to ../Data/archive/RandomDataTest/109260218_fca831f933.jpg\n",
      "Copying 701816897_221bbe761a.jpg to ../Data/archive/RandomDataTest/701816897_221bbe761a.jpg\n",
      "Copying 1095590286_c654f7e5a9.jpg to ../Data/archive/RandomDataTest/1095590286_c654f7e5a9.jpg\n",
      "Copying 2994107810_af56326389.jpg to ../Data/archive/RandomDataTest/2994107810_af56326389.jpg\n",
      "Copying 154871781_ae77696b77.jpg to ../Data/archive/RandomDataTest/154871781_ae77696b77.jpg\n",
      "Copying 3696698390_989f1488e7.jpg to ../Data/archive/RandomDataTest/3696698390_989f1488e7.jpg\n",
      "Copying 746787916_ceb103069f.jpg to ../Data/archive/RandomDataTest/746787916_ceb103069f.jpg\n",
      "Copying 2922807898_b5a06d5c70.jpg to ../Data/archive/RandomDataTest/2922807898_b5a06d5c70.jpg\n",
      "Copying 661546153_9d30db6984.jpg to ../Data/archive/RandomDataTest/661546153_9d30db6984.jpg\n",
      "Copying 237547381_aa17c805e0.jpg to ../Data/archive/RandomDataTest/237547381_aa17c805e0.jpg\n",
      "Copying 458735196_176e7df6b3.jpg to ../Data/archive/RandomDataTest/458735196_176e7df6b3.jpg\n",
      "Copying 2917843040_7c9caaaa8a.jpg to ../Data/archive/RandomDataTest/2917843040_7c9caaaa8a.jpg\n",
      "Successfully copied 20 random items from ../Data/archive/Images to ../Data/archive/RandomDataTest\n"
     ]
    }
   ],
   "source": [
    "import os\n",
    "import shutil\n",
    "import random\n",
    "\n",
    "# Source folder with items\n",
    "source_folder = '../Data/archive/Images'\n",
    "\n",
    "# Destination folder where randomly selected items will be copied\n",
    "destination_folder = '../Data/archive/RandomDataTest'\n",
    "\n",
    "# Number of items to select randomly\n",
    "num_items_to_select = 20  # You can change this to the number you want\n",
    "\n",
    "# Ensure the destination folder exists\n",
    "os.makedirs(destination_folder, exist_ok=True)\n",
    "\n",
    "# List all items in the source folder\n",
    "all_items = os.listdir(source_folder)\n",
    "\n",
    "# Randomly select 'num_items_to_select' items from the source folder\n",
    "selected_items = random.sample(all_items, num_items_to_select)\n",
    "\n",
    "# Copy the selected items to the destination folder\n",
    "for item in selected_items:\n",
    "    source_path = os.path.join(source_folder, item)\n",
    "    destination_path = os.path.join(destination_folder, item)\n",
    "    shutil.copy(source_path, destination_path)\n",
    "    print(f\"Copying {item} to {destination_path}\")\n",
    "\n",
    "print(f\"Successfully copied {num_items_to_select} random items from {source_folder} to {destination_folder}\")\n"
   ]
  },
  {
   "cell_type": "code",
   "execution_count": null,
   "metadata": {},
   "outputs": [],
   "source": []
  }
 ],
 "metadata": {
  "kernelspec": {
   "display_name": "Python 3",
   "language": "python",
   "name": "python3"
  },
  "language_info": {
   "codemirror_mode": {
    "name": "ipython",
    "version": 3
   },
   "file_extension": ".py",
   "mimetype": "text/x-python",
   "name": "python",
   "nbconvert_exporter": "python",
   "pygments_lexer": "ipython3",
   "version": "3.10.12"
  }
 },
 "nbformat": 4,
 "nbformat_minor": 2
}
